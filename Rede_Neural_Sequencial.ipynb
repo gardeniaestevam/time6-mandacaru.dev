{
  "nbformat": 4,
  "nbformat_minor": 0,
  "metadata": {
    "colab": {
      "provenance": []
    },
    "kernelspec": {
      "name": "python3",
      "display_name": "Python 3"
    },
    "language_info": {
      "name": "python"
    }
  },
  "cells": [
    {
      "cell_type": "markdown",
      "source": [
        "##Instalando Biblioteca externa do Collab necessária."
      ],
      "metadata": {
        "id": "sn22B7gYftTR"
      }
    },
    {
      "cell_type": "code",
      "source": [
        "!pip install scikeras"
      ],
      "metadata": {
        "colab": {
          "base_uri": "https://localhost:8080/"
        },
        "id": "r7XojObtgtQi",
        "outputId": "d7d3da2b-078b-4d57-c12a-edc4d02835ac"
      },
      "execution_count": 1,
      "outputs": [
        {
          "output_type": "stream",
          "name": "stdout",
          "text": [
            "Requirement already satisfied: scikeras in /usr/local/lib/python3.10/dist-packages (0.12.0)\n",
            "Requirement already satisfied: packaging>=0.21 in /usr/local/lib/python3.10/dist-packages (from scikeras) (23.2)\n",
            "Requirement already satisfied: scikit-learn>=1.0.0 in /usr/local/lib/python3.10/dist-packages (from scikeras) (1.2.2)\n",
            "Requirement already satisfied: numpy>=1.17.3 in /usr/local/lib/python3.10/dist-packages (from scikit-learn>=1.0.0->scikeras) (1.23.5)\n",
            "Requirement already satisfied: scipy>=1.3.2 in /usr/local/lib/python3.10/dist-packages (from scikit-learn>=1.0.0->scikeras) (1.11.4)\n",
            "Requirement already satisfied: joblib>=1.1.1 in /usr/local/lib/python3.10/dist-packages (from scikit-learn>=1.0.0->scikeras) (1.3.2)\n",
            "Requirement already satisfied: threadpoolctl>=2.0.0 in /usr/local/lib/python3.10/dist-packages (from scikit-learn>=1.0.0->scikeras) (3.2.0)\n"
          ]
        }
      ]
    },
    {
      "cell_type": "code",
      "source": [
        "import pandas as pd\n",
        "import keras\n",
        "import tensorflow\n",
        "import tensorflow_hub as hub\n",
        "from sklearn.model_selection import cross_val_score\n",
        "from sklearn.model_selection import KFold\n",
        "from sklearn.preprocessing import LabelEncoder\n",
        "from sklearn.pipeline import Pipeline\n",
        "from sklearn.feature_extraction.text import CountVectorizer\n",
        "import nltk\n",
        "from nltk.corpus import stopwords\n",
        "from nltk.tokenize import sent_tokenize, word_tokenize\n",
        "from nltk.stem import WordNetLemmatizer\n",
        "from scikeras.wrappers import KerasClassifier\n",
        "\n",
        "from sklearn.model_selection import train_test_split\n",
        "from sklearn.metrics import accuracy_score, precision_score, recall_score\n",
        "import numpy as np\n",
        "import matplotlib.pyplot as plt"
      ],
      "metadata": {
        "id": "Rg8WOw1xUKh_"
      },
      "execution_count": 2,
      "outputs": []
    },
    {
      "cell_type": "markdown",
      "source": [
        "##Importando Dataset"
      ],
      "metadata": {
        "id": "l9YrfdWOgXmj"
      }
    },
    {
      "cell_type": "code",
      "execution_count": 3,
      "metadata": {
        "id": "jnJ93N6vUFim"
      },
      "outputs": [],
      "source": [
        "dataset = pd.read_csv('/content/drive/MyDrive/data.csv')"
      ]
    },
    {
      "cell_type": "markdown",
      "source": [
        "##Normalizando Dataset"
      ],
      "metadata": {
        "id": "etYjIsF6gi8I"
      }
    },
    {
      "cell_type": "code",
      "source": [
        "dataset['clean_Sentence'] = dataset['Sentence'].str.lower()\n",
        "dataset.loc[:,'clean_Sentence'] = dataset.loc[:,'clean_Sentence'].str.replace('[^\\w\\s]', '')\n",
        "dataset.loc[:,'clean_Sentence'] = dataset.loc[:,'clean_Sentence'].str.replace('[0123456789]', '')\n",
        "nltk.download('stopwords')\n",
        "stop = stopwords.words('english')\n",
        "dataset['clean_Sentence'] = dataset['clean_Sentence'].apply(lambda x: ' '.join([word for word in x.split() if word not in (stop)]))\n",
        "dataset"
      ],
      "metadata": {
        "id": "pLpLyTMRZj-H",
        "colab": {
          "base_uri": "https://localhost:8080/",
          "height": 528
        },
        "outputId": "500494f6-c515-43a9-c97e-b49c081c7511"
      },
      "execution_count": 4,
      "outputs": [
        {
          "output_type": "stream",
          "name": "stderr",
          "text": [
            "<ipython-input-4-48ec25ecb181>:2: FutureWarning: The default value of regex will change from True to False in a future version.\n",
            "  dataset.loc[:,'clean_Sentence'] = dataset.loc[:,'clean_Sentence'].str.replace('[^\\w\\s]', '')\n",
            "<ipython-input-4-48ec25ecb181>:3: FutureWarning: The default value of regex will change from True to False in a future version.\n",
            "  dataset.loc[:,'clean_Sentence'] = dataset.loc[:,'clean_Sentence'].str.replace('[0123456789]', '')\n",
            "[nltk_data] Downloading package stopwords to /root/nltk_data...\n",
            "[nltk_data]   Package stopwords is already up-to-date!\n"
          ]
        },
        {
          "output_type": "execute_result",
          "data": {
            "text/plain": [
              "                                               Sentence Sentiment  \\\n",
              "0     The GeoSolutions technology will leverage Bene...  positive   \n",
              "1     $ESI on lows, down $1.50 to $2.50 BK a real po...  negative   \n",
              "2     For the last quarter of 2010 , Componenta 's n...  positive   \n",
              "3     According to the Finnish-Russian Chamber of Co...   neutral   \n",
              "4     The Swedish buyout firm has sold its remaining...   neutral   \n",
              "...                                                 ...       ...   \n",
              "5837  RISING costs have forced packaging producer Hu...  negative   \n",
              "5838  Nordic Walking was first used as a summer trai...   neutral   \n",
              "5839  According shipping company Viking Line , the E...   neutral   \n",
              "5840  In the building and home improvement trade , s...   neutral   \n",
              "5841  HELSINKI AFX - KCI Konecranes said it has won ...  positive   \n",
              "\n",
              "                                         clean_Sentence  \n",
              "0     geosolutions technology leverage benefon gps s...  \n",
              "1                          esi lows bk real possibility  \n",
              "2     last quarter componenta net sales doubled eurm...  \n",
              "3     according finnishrussian chamber commerce majo...  \n",
              "4     swedish buyout firm sold remaining percent sta...  \n",
              "...                                                 ...  \n",
              "5837  rising costs forced packaging producer huhtama...  \n",
              "5838  nordic walking first used summer training meth...  \n",
              "5839  according shipping company viking line eu deci...  \n",
              "5840  building home improvement trade sales decrease...  \n",
              "5841  helsinki afx kci konecranes said order four ho...  \n",
              "\n",
              "[5842 rows x 3 columns]"
            ],
            "text/html": [
              "\n",
              "  <div id=\"df-4255e4fa-cb76-41b7-ac1f-1a505085b9b6\" class=\"colab-df-container\">\n",
              "    <div>\n",
              "<style scoped>\n",
              "    .dataframe tbody tr th:only-of-type {\n",
              "        vertical-align: middle;\n",
              "    }\n",
              "\n",
              "    .dataframe tbody tr th {\n",
              "        vertical-align: top;\n",
              "    }\n",
              "\n",
              "    .dataframe thead th {\n",
              "        text-align: right;\n",
              "    }\n",
              "</style>\n",
              "<table border=\"1\" class=\"dataframe\">\n",
              "  <thead>\n",
              "    <tr style=\"text-align: right;\">\n",
              "      <th></th>\n",
              "      <th>Sentence</th>\n",
              "      <th>Sentiment</th>\n",
              "      <th>clean_Sentence</th>\n",
              "    </tr>\n",
              "  </thead>\n",
              "  <tbody>\n",
              "    <tr>\n",
              "      <th>0</th>\n",
              "      <td>The GeoSolutions technology will leverage Bene...</td>\n",
              "      <td>positive</td>\n",
              "      <td>geosolutions technology leverage benefon gps s...</td>\n",
              "    </tr>\n",
              "    <tr>\n",
              "      <th>1</th>\n",
              "      <td>$ESI on lows, down $1.50 to $2.50 BK a real po...</td>\n",
              "      <td>negative</td>\n",
              "      <td>esi lows bk real possibility</td>\n",
              "    </tr>\n",
              "    <tr>\n",
              "      <th>2</th>\n",
              "      <td>For the last quarter of 2010 , Componenta 's n...</td>\n",
              "      <td>positive</td>\n",
              "      <td>last quarter componenta net sales doubled eurm...</td>\n",
              "    </tr>\n",
              "    <tr>\n",
              "      <th>3</th>\n",
              "      <td>According to the Finnish-Russian Chamber of Co...</td>\n",
              "      <td>neutral</td>\n",
              "      <td>according finnishrussian chamber commerce majo...</td>\n",
              "    </tr>\n",
              "    <tr>\n",
              "      <th>4</th>\n",
              "      <td>The Swedish buyout firm has sold its remaining...</td>\n",
              "      <td>neutral</td>\n",
              "      <td>swedish buyout firm sold remaining percent sta...</td>\n",
              "    </tr>\n",
              "    <tr>\n",
              "      <th>...</th>\n",
              "      <td>...</td>\n",
              "      <td>...</td>\n",
              "      <td>...</td>\n",
              "    </tr>\n",
              "    <tr>\n",
              "      <th>5837</th>\n",
              "      <td>RISING costs have forced packaging producer Hu...</td>\n",
              "      <td>negative</td>\n",
              "      <td>rising costs forced packaging producer huhtama...</td>\n",
              "    </tr>\n",
              "    <tr>\n",
              "      <th>5838</th>\n",
              "      <td>Nordic Walking was first used as a summer trai...</td>\n",
              "      <td>neutral</td>\n",
              "      <td>nordic walking first used summer training meth...</td>\n",
              "    </tr>\n",
              "    <tr>\n",
              "      <th>5839</th>\n",
              "      <td>According shipping company Viking Line , the E...</td>\n",
              "      <td>neutral</td>\n",
              "      <td>according shipping company viking line eu deci...</td>\n",
              "    </tr>\n",
              "    <tr>\n",
              "      <th>5840</th>\n",
              "      <td>In the building and home improvement trade , s...</td>\n",
              "      <td>neutral</td>\n",
              "      <td>building home improvement trade sales decrease...</td>\n",
              "    </tr>\n",
              "    <tr>\n",
              "      <th>5841</th>\n",
              "      <td>HELSINKI AFX - KCI Konecranes said it has won ...</td>\n",
              "      <td>positive</td>\n",
              "      <td>helsinki afx kci konecranes said order four ho...</td>\n",
              "    </tr>\n",
              "  </tbody>\n",
              "</table>\n",
              "<p>5842 rows × 3 columns</p>\n",
              "</div>\n",
              "    <div class=\"colab-df-buttons\">\n",
              "\n",
              "  <div class=\"colab-df-container\">\n",
              "    <button class=\"colab-df-convert\" onclick=\"convertToInteractive('df-4255e4fa-cb76-41b7-ac1f-1a505085b9b6')\"\n",
              "            title=\"Convert this dataframe to an interactive table.\"\n",
              "            style=\"display:none;\">\n",
              "\n",
              "  <svg xmlns=\"http://www.w3.org/2000/svg\" height=\"24px\" viewBox=\"0 -960 960 960\">\n",
              "    <path d=\"M120-120v-720h720v720H120Zm60-500h600v-160H180v160Zm220 220h160v-160H400v160Zm0 220h160v-160H400v160ZM180-400h160v-160H180v160Zm440 0h160v-160H620v160ZM180-180h160v-160H180v160Zm440 0h160v-160H620v160Z\"/>\n",
              "  </svg>\n",
              "    </button>\n",
              "\n",
              "  <style>\n",
              "    .colab-df-container {\n",
              "      display:flex;\n",
              "      gap: 12px;\n",
              "    }\n",
              "\n",
              "    .colab-df-convert {\n",
              "      background-color: #E8F0FE;\n",
              "      border: none;\n",
              "      border-radius: 50%;\n",
              "      cursor: pointer;\n",
              "      display: none;\n",
              "      fill: #1967D2;\n",
              "      height: 32px;\n",
              "      padding: 0 0 0 0;\n",
              "      width: 32px;\n",
              "    }\n",
              "\n",
              "    .colab-df-convert:hover {\n",
              "      background-color: #E2EBFA;\n",
              "      box-shadow: 0px 1px 2px rgba(60, 64, 67, 0.3), 0px 1px 3px 1px rgba(60, 64, 67, 0.15);\n",
              "      fill: #174EA6;\n",
              "    }\n",
              "\n",
              "    .colab-df-buttons div {\n",
              "      margin-bottom: 4px;\n",
              "    }\n",
              "\n",
              "    [theme=dark] .colab-df-convert {\n",
              "      background-color: #3B4455;\n",
              "      fill: #D2E3FC;\n",
              "    }\n",
              "\n",
              "    [theme=dark] .colab-df-convert:hover {\n",
              "      background-color: #434B5C;\n",
              "      box-shadow: 0px 1px 3px 1px rgba(0, 0, 0, 0.15);\n",
              "      filter: drop-shadow(0px 1px 2px rgba(0, 0, 0, 0.3));\n",
              "      fill: #FFFFFF;\n",
              "    }\n",
              "  </style>\n",
              "\n",
              "    <script>\n",
              "      const buttonEl =\n",
              "        document.querySelector('#df-4255e4fa-cb76-41b7-ac1f-1a505085b9b6 button.colab-df-convert');\n",
              "      buttonEl.style.display =\n",
              "        google.colab.kernel.accessAllowed ? 'block' : 'none';\n",
              "\n",
              "      async function convertToInteractive(key) {\n",
              "        const element = document.querySelector('#df-4255e4fa-cb76-41b7-ac1f-1a505085b9b6');\n",
              "        const dataTable =\n",
              "          await google.colab.kernel.invokeFunction('convertToInteractive',\n",
              "                                                    [key], {});\n",
              "        if (!dataTable) return;\n",
              "\n",
              "        const docLinkHtml = 'Like what you see? Visit the ' +\n",
              "          '<a target=\"_blank\" href=https://colab.research.google.com/notebooks/data_table.ipynb>data table notebook</a>'\n",
              "          + ' to learn more about interactive tables.';\n",
              "        element.innerHTML = '';\n",
              "        dataTable['output_type'] = 'display_data';\n",
              "        await google.colab.output.renderOutput(dataTable, element);\n",
              "        const docLink = document.createElement('div');\n",
              "        docLink.innerHTML = docLinkHtml;\n",
              "        element.appendChild(docLink);\n",
              "      }\n",
              "    </script>\n",
              "  </div>\n",
              "\n",
              "\n",
              "<div id=\"df-01889073-3f1b-484d-9829-33f5e01ea713\">\n",
              "  <button class=\"colab-df-quickchart\" onclick=\"quickchart('df-01889073-3f1b-484d-9829-33f5e01ea713')\"\n",
              "            title=\"Suggest charts\"\n",
              "            style=\"display:none;\">\n",
              "\n",
              "<svg xmlns=\"http://www.w3.org/2000/svg\" height=\"24px\"viewBox=\"0 0 24 24\"\n",
              "     width=\"24px\">\n",
              "    <g>\n",
              "        <path d=\"M19 3H5c-1.1 0-2 .9-2 2v14c0 1.1.9 2 2 2h14c1.1 0 2-.9 2-2V5c0-1.1-.9-2-2-2zM9 17H7v-7h2v7zm4 0h-2V7h2v10zm4 0h-2v-4h2v4z\"/>\n",
              "    </g>\n",
              "</svg>\n",
              "  </button>\n",
              "\n",
              "<style>\n",
              "  .colab-df-quickchart {\n",
              "      --bg-color: #E8F0FE;\n",
              "      --fill-color: #1967D2;\n",
              "      --hover-bg-color: #E2EBFA;\n",
              "      --hover-fill-color: #174EA6;\n",
              "      --disabled-fill-color: #AAA;\n",
              "      --disabled-bg-color: #DDD;\n",
              "  }\n",
              "\n",
              "  [theme=dark] .colab-df-quickchart {\n",
              "      --bg-color: #3B4455;\n",
              "      --fill-color: #D2E3FC;\n",
              "      --hover-bg-color: #434B5C;\n",
              "      --hover-fill-color: #FFFFFF;\n",
              "      --disabled-bg-color: #3B4455;\n",
              "      --disabled-fill-color: #666;\n",
              "  }\n",
              "\n",
              "  .colab-df-quickchart {\n",
              "    background-color: var(--bg-color);\n",
              "    border: none;\n",
              "    border-radius: 50%;\n",
              "    cursor: pointer;\n",
              "    display: none;\n",
              "    fill: var(--fill-color);\n",
              "    height: 32px;\n",
              "    padding: 0;\n",
              "    width: 32px;\n",
              "  }\n",
              "\n",
              "  .colab-df-quickchart:hover {\n",
              "    background-color: var(--hover-bg-color);\n",
              "    box-shadow: 0 1px 2px rgba(60, 64, 67, 0.3), 0 1px 3px 1px rgba(60, 64, 67, 0.15);\n",
              "    fill: var(--button-hover-fill-color);\n",
              "  }\n",
              "\n",
              "  .colab-df-quickchart-complete:disabled,\n",
              "  .colab-df-quickchart-complete:disabled:hover {\n",
              "    background-color: var(--disabled-bg-color);\n",
              "    fill: var(--disabled-fill-color);\n",
              "    box-shadow: none;\n",
              "  }\n",
              "\n",
              "  .colab-df-spinner {\n",
              "    border: 2px solid var(--fill-color);\n",
              "    border-color: transparent;\n",
              "    border-bottom-color: var(--fill-color);\n",
              "    animation:\n",
              "      spin 1s steps(1) infinite;\n",
              "  }\n",
              "\n",
              "  @keyframes spin {\n",
              "    0% {\n",
              "      border-color: transparent;\n",
              "      border-bottom-color: var(--fill-color);\n",
              "      border-left-color: var(--fill-color);\n",
              "    }\n",
              "    20% {\n",
              "      border-color: transparent;\n",
              "      border-left-color: var(--fill-color);\n",
              "      border-top-color: var(--fill-color);\n",
              "    }\n",
              "    30% {\n",
              "      border-color: transparent;\n",
              "      border-left-color: var(--fill-color);\n",
              "      border-top-color: var(--fill-color);\n",
              "      border-right-color: var(--fill-color);\n",
              "    }\n",
              "    40% {\n",
              "      border-color: transparent;\n",
              "      border-right-color: var(--fill-color);\n",
              "      border-top-color: var(--fill-color);\n",
              "    }\n",
              "    60% {\n",
              "      border-color: transparent;\n",
              "      border-right-color: var(--fill-color);\n",
              "    }\n",
              "    80% {\n",
              "      border-color: transparent;\n",
              "      border-right-color: var(--fill-color);\n",
              "      border-bottom-color: var(--fill-color);\n",
              "    }\n",
              "    90% {\n",
              "      border-color: transparent;\n",
              "      border-bottom-color: var(--fill-color);\n",
              "    }\n",
              "  }\n",
              "</style>\n",
              "\n",
              "  <script>\n",
              "    async function quickchart(key) {\n",
              "      const quickchartButtonEl =\n",
              "        document.querySelector('#' + key + ' button');\n",
              "      quickchartButtonEl.disabled = true;  // To prevent multiple clicks.\n",
              "      quickchartButtonEl.classList.add('colab-df-spinner');\n",
              "      try {\n",
              "        const charts = await google.colab.kernel.invokeFunction(\n",
              "            'suggestCharts', [key], {});\n",
              "      } catch (error) {\n",
              "        console.error('Error during call to suggestCharts:', error);\n",
              "      }\n",
              "      quickchartButtonEl.classList.remove('colab-df-spinner');\n",
              "      quickchartButtonEl.classList.add('colab-df-quickchart-complete');\n",
              "    }\n",
              "    (() => {\n",
              "      let quickchartButtonEl =\n",
              "        document.querySelector('#df-01889073-3f1b-484d-9829-33f5e01ea713 button');\n",
              "      quickchartButtonEl.style.display =\n",
              "        google.colab.kernel.accessAllowed ? 'block' : 'none';\n",
              "    })();\n",
              "  </script>\n",
              "</div>\n",
              "    </div>\n",
              "  </div>\n"
            ]
          },
          "metadata": {},
          "execution_count": 4
        }
      ]
    },
    {
      "cell_type": "markdown",
      "source": [
        "##Dummyficando a coluna \"Sentiment\""
      ],
      "metadata": {
        "id": "zB9FsmJ0gw5f"
      }
    },
    {
      "cell_type": "code",
      "source": [
        "Y = dataset.loc[:,\"Sentiment\"]\n",
        "encoder = LabelEncoder()\n",
        "encoder.fit(Y)\n",
        "encoded_Y = encoder.transform(Y)\n",
        "dummy_y = keras.utils.to_categorical(encoded_Y)"
      ],
      "metadata": {
        "id": "MUzsPlSFaB6V"
      },
      "execution_count": 5,
      "outputs": []
    },
    {
      "cell_type": "code",
      "source": [
        "dummy_y"
      ],
      "metadata": {
        "colab": {
          "base_uri": "https://localhost:8080/"
        },
        "id": "3ENImvJFWg5O",
        "outputId": "9f2dce19-2804-414b-f60d-53577cd1234a"
      },
      "execution_count": 6,
      "outputs": [
        {
          "output_type": "execute_result",
          "data": {
            "text/plain": [
              "array([[0., 0., 1.],\n",
              "       [1., 0., 0.],\n",
              "       [0., 0., 1.],\n",
              "       ...,\n",
              "       [0., 1., 0.],\n",
              "       [0., 1., 0.],\n",
              "       [0., 0., 1.]], dtype=float32)"
            ]
          },
          "metadata": {},
          "execution_count": 6
        }
      ]
    },
    {
      "cell_type": "markdown",
      "source": [
        "##Separando conjunto treino e teste"
      ],
      "metadata": {
        "id": "gxx8KPlGPpnb"
      }
    },
    {
      "cell_type": "code",
      "source": [
        "X_train, X_test, y_train, y_test = train_test_split(dataset['clean_Sentence'], dummy_y, test_size=0.1, random_state=42)"
      ],
      "metadata": {
        "id": "VnWHaAb8u-l2"
      },
      "execution_count": 7,
      "outputs": []
    },
    {
      "cell_type": "markdown",
      "source": [
        "##Vetorizando as entradas"
      ],
      "metadata": {
        "id": "VnV34dSUhADQ"
      }
    },
    {
      "cell_type": "code",
      "source": [
        "cv = CountVectorizer()\n",
        "#sentences = dataset.loc[:, \"clean_Sentence\"]"
      ],
      "metadata": {
        "id": "i5ekMfsTgai2"
      },
      "execution_count": 8,
      "outputs": []
    },
    {
      "cell_type": "code",
      "source": [
        "cv.fit(dataset['clean_Sentence'])"
      ],
      "metadata": {
        "id": "b_qRbqOdxwCF",
        "colab": {
          "base_uri": "https://localhost:8080/",
          "height": 75
        },
        "outputId": "9cf393a9-87a1-42e7-ee3e-89c1ae5c80ba"
      },
      "execution_count": 9,
      "outputs": [
        {
          "output_type": "execute_result",
          "data": {
            "text/plain": [
              "CountVectorizer()"
            ],
            "text/html": [
              "<style>#sk-container-id-1 {color: black;background-color: white;}#sk-container-id-1 pre{padding: 0;}#sk-container-id-1 div.sk-toggleable {background-color: white;}#sk-container-id-1 label.sk-toggleable__label {cursor: pointer;display: block;width: 100%;margin-bottom: 0;padding: 0.3em;box-sizing: border-box;text-align: center;}#sk-container-id-1 label.sk-toggleable__label-arrow:before {content: \"▸\";float: left;margin-right: 0.25em;color: #696969;}#sk-container-id-1 label.sk-toggleable__label-arrow:hover:before {color: black;}#sk-container-id-1 div.sk-estimator:hover label.sk-toggleable__label-arrow:before {color: black;}#sk-container-id-1 div.sk-toggleable__content {max-height: 0;max-width: 0;overflow: hidden;text-align: left;background-color: #f0f8ff;}#sk-container-id-1 div.sk-toggleable__content pre {margin: 0.2em;color: black;border-radius: 0.25em;background-color: #f0f8ff;}#sk-container-id-1 input.sk-toggleable__control:checked~div.sk-toggleable__content {max-height: 200px;max-width: 100%;overflow: auto;}#sk-container-id-1 input.sk-toggleable__control:checked~label.sk-toggleable__label-arrow:before {content: \"▾\";}#sk-container-id-1 div.sk-estimator input.sk-toggleable__control:checked~label.sk-toggleable__label {background-color: #d4ebff;}#sk-container-id-1 div.sk-label input.sk-toggleable__control:checked~label.sk-toggleable__label {background-color: #d4ebff;}#sk-container-id-1 input.sk-hidden--visually {border: 0;clip: rect(1px 1px 1px 1px);clip: rect(1px, 1px, 1px, 1px);height: 1px;margin: -1px;overflow: hidden;padding: 0;position: absolute;width: 1px;}#sk-container-id-1 div.sk-estimator {font-family: monospace;background-color: #f0f8ff;border: 1px dotted black;border-radius: 0.25em;box-sizing: border-box;margin-bottom: 0.5em;}#sk-container-id-1 div.sk-estimator:hover {background-color: #d4ebff;}#sk-container-id-1 div.sk-parallel-item::after {content: \"\";width: 100%;border-bottom: 1px solid gray;flex-grow: 1;}#sk-container-id-1 div.sk-label:hover label.sk-toggleable__label {background-color: #d4ebff;}#sk-container-id-1 div.sk-serial::before {content: \"\";position: absolute;border-left: 1px solid gray;box-sizing: border-box;top: 0;bottom: 0;left: 50%;z-index: 0;}#sk-container-id-1 div.sk-serial {display: flex;flex-direction: column;align-items: center;background-color: white;padding-right: 0.2em;padding-left: 0.2em;position: relative;}#sk-container-id-1 div.sk-item {position: relative;z-index: 1;}#sk-container-id-1 div.sk-parallel {display: flex;align-items: stretch;justify-content: center;background-color: white;position: relative;}#sk-container-id-1 div.sk-item::before, #sk-container-id-1 div.sk-parallel-item::before {content: \"\";position: absolute;border-left: 1px solid gray;box-sizing: border-box;top: 0;bottom: 0;left: 50%;z-index: -1;}#sk-container-id-1 div.sk-parallel-item {display: flex;flex-direction: column;z-index: 1;position: relative;background-color: white;}#sk-container-id-1 div.sk-parallel-item:first-child::after {align-self: flex-end;width: 50%;}#sk-container-id-1 div.sk-parallel-item:last-child::after {align-self: flex-start;width: 50%;}#sk-container-id-1 div.sk-parallel-item:only-child::after {width: 0;}#sk-container-id-1 div.sk-dashed-wrapped {border: 1px dashed gray;margin: 0 0.4em 0.5em 0.4em;box-sizing: border-box;padding-bottom: 0.4em;background-color: white;}#sk-container-id-1 div.sk-label label {font-family: monospace;font-weight: bold;display: inline-block;line-height: 1.2em;}#sk-container-id-1 div.sk-label-container {text-align: center;}#sk-container-id-1 div.sk-container {/* jupyter's `normalize.less` sets `[hidden] { display: none; }` but bootstrap.min.css set `[hidden] { display: none !important; }` so we also need the `!important` here to be able to override the default hidden behavior on the sphinx rendered scikit-learn.org. See: https://github.com/scikit-learn/scikit-learn/issues/21755 */display: inline-block !important;position: relative;}#sk-container-id-1 div.sk-text-repr-fallback {display: none;}</style><div id=\"sk-container-id-1\" class=\"sk-top-container\"><div class=\"sk-text-repr-fallback\"><pre>CountVectorizer()</pre><b>In a Jupyter environment, please rerun this cell to show the HTML representation or trust the notebook. <br />On GitHub, the HTML representation is unable to render, please try loading this page with nbviewer.org.</b></div><div class=\"sk-container\" hidden><div class=\"sk-item\"><div class=\"sk-estimator sk-toggleable\"><input class=\"sk-toggleable__control sk-hidden--visually\" id=\"sk-estimator-id-1\" type=\"checkbox\" checked><label for=\"sk-estimator-id-1\" class=\"sk-toggleable__label sk-toggleable__label-arrow\">CountVectorizer</label><div class=\"sk-toggleable__content\"><pre>CountVectorizer()</pre></div></div></div></div></div>"
            ]
          },
          "metadata": {},
          "execution_count": 9
        }
      ]
    },
    {
      "cell_type": "code",
      "source": [
        "X_train_vectorized = cv.transform(X_train)\n",
        "X_test_vectorized = cv.transform(X_test)"
      ],
      "metadata": {
        "id": "jTyfM_S6yIdm"
      },
      "execution_count": 10,
      "outputs": []
    },
    {
      "cell_type": "code",
      "source": [
        "x_train = X_train_vectorized.toarray()\n",
        "x_test = X_test_vectorized.toarray()"
      ],
      "metadata": {
        "id": "gSQ8GV9yygM9"
      },
      "execution_count": 11,
      "outputs": []
    },
    {
      "cell_type": "markdown",
      "source": [
        "##Construção do modelo"
      ],
      "metadata": {
        "id": "HMZ7CClUhL3w"
      }
    },
    {
      "cell_type": "code",
      "source": [
        "model = tensorflow.keras.Sequential()\n",
        "model.add(tensorflow.keras.layers.Dense(4, input_dim=x_train.shape[1], activation='sigmoid'))\n",
        "model.add(tensorflow.keras.layers.Dropout(0.4))\n",
        "model.add(tensorflow.keras.layers.Dense(3, activation='softmax'))\n",
        "model.compile(loss='categorical_crossentropy', optimizer=tensorflow.keras.optimizers.Adam(learning_rate=0.001), metrics=['accuracy'])"
      ],
      "metadata": {
        "id": "PVnNfJk-DhvI"
      },
      "execution_count": 43,
      "outputs": []
    },
    {
      "cell_type": "markdown",
      "source": [
        "##Rodando modelo"
      ],
      "metadata": {
        "id": "uPmE-RWRlVzI"
      }
    },
    {
      "cell_type": "code",
      "source": [
        "history = model.fit(x_train,y_train,epochs = 25, batch_size = 32, validation_split=0.1, shuffle = True, verbose = 1)"
      ],
      "metadata": {
        "colab": {
          "base_uri": "https://localhost:8080/"
        },
        "id": "fge7ZaOCK3BR",
        "outputId": "d9dd9a62-f596-4b3e-9714-97e0673bc765"
      },
      "execution_count": 44,
      "outputs": [
        {
          "output_type": "stream",
          "name": "stdout",
          "text": [
            "Epoch 1/25\n",
            "148/148 [==============================] - 1s 4ms/step - loss: 1.1519 - accuracy: 0.3314 - val_loss: 1.0287 - val_accuracy: 0.4867\n",
            "Epoch 2/25\n",
            "148/148 [==============================] - 1s 3ms/step - loss: 1.0236 - accuracy: 0.4521 - val_loss: 1.0021 - val_accuracy: 0.4734\n",
            "Epoch 3/25\n",
            "148/148 [==============================] - 1s 3ms/step - loss: 0.9808 - accuracy: 0.5122 - val_loss: 0.9940 - val_accuracy: 0.4734\n",
            "Epoch 4/25\n",
            "148/148 [==============================] - 1s 3ms/step - loss: 0.9592 - accuracy: 0.5519 - val_loss: 0.9860 - val_accuracy: 0.4734\n",
            "Epoch 5/25\n",
            "148/148 [==============================] - 0s 3ms/step - loss: 0.9298 - accuracy: 0.5781 - val_loss: 0.9768 - val_accuracy: 0.4734\n",
            "Epoch 6/25\n",
            "148/148 [==============================] - 0s 3ms/step - loss: 0.9169 - accuracy: 0.5834 - val_loss: 0.9657 - val_accuracy: 0.4753\n",
            "Epoch 7/25\n",
            "148/148 [==============================] - 1s 3ms/step - loss: 0.8976 - accuracy: 0.6018 - val_loss: 0.9525 - val_accuracy: 0.4848\n",
            "Epoch 8/25\n",
            "148/148 [==============================] - 1s 3ms/step - loss: 0.8796 - accuracy: 0.6134 - val_loss: 0.9411 - val_accuracy: 0.4943\n",
            "Epoch 9/25\n",
            "148/148 [==============================] - 0s 3ms/step - loss: 0.8589 - accuracy: 0.6221 - val_loss: 0.9275 - val_accuracy: 0.5209\n",
            "Epoch 10/25\n",
            "148/148 [==============================] - 0s 3ms/step - loss: 0.8414 - accuracy: 0.6328 - val_loss: 0.9107 - val_accuracy: 0.5703\n",
            "Epoch 11/25\n",
            "148/148 [==============================] - 0s 3ms/step - loss: 0.8108 - accuracy: 0.6483 - val_loss: 0.8965 - val_accuracy: 0.5837\n",
            "Epoch 12/25\n",
            "148/148 [==============================] - 1s 3ms/step - loss: 0.7996 - accuracy: 0.6512 - val_loss: 0.8826 - val_accuracy: 0.5932\n",
            "Epoch 13/25\n",
            "148/148 [==============================] - 0s 3ms/step - loss: 0.7777 - accuracy: 0.6633 - val_loss: 0.8702 - val_accuracy: 0.5989\n",
            "Epoch 14/25\n",
            "148/148 [==============================] - 1s 3ms/step - loss: 0.7677 - accuracy: 0.6686 - val_loss: 0.8568 - val_accuracy: 0.6122\n",
            "Epoch 15/25\n",
            "148/148 [==============================] - 1s 4ms/step - loss: 0.7447 - accuracy: 0.6857 - val_loss: 0.8463 - val_accuracy: 0.6141\n",
            "Epoch 16/25\n",
            "148/148 [==============================] - 0s 3ms/step - loss: 0.7224 - accuracy: 0.6946 - val_loss: 0.8378 - val_accuracy: 0.6141\n",
            "Epoch 17/25\n",
            "148/148 [==============================] - 1s 3ms/step - loss: 0.7126 - accuracy: 0.6916 - val_loss: 0.8276 - val_accuracy: 0.6217\n",
            "Epoch 18/25\n",
            "148/148 [==============================] - 1s 4ms/step - loss: 0.7162 - accuracy: 0.6925 - val_loss: 0.8210 - val_accuracy: 0.6217\n",
            "Epoch 19/25\n",
            "148/148 [==============================] - 1s 4ms/step - loss: 0.6931 - accuracy: 0.7020 - val_loss: 0.8132 - val_accuracy: 0.6293\n",
            "Epoch 20/25\n",
            "148/148 [==============================] - 1s 5ms/step - loss: 0.6707 - accuracy: 0.7185 - val_loss: 0.8069 - val_accuracy: 0.6350\n",
            "Epoch 21/25\n",
            "148/148 [==============================] - 1s 4ms/step - loss: 0.6635 - accuracy: 0.7248 - val_loss: 0.8016 - val_accuracy: 0.6350\n",
            "Epoch 22/25\n",
            "148/148 [==============================] - 1s 5ms/step - loss: 0.6491 - accuracy: 0.7187 - val_loss: 0.7962 - val_accuracy: 0.6369\n",
            "Epoch 23/25\n",
            "148/148 [==============================] - 1s 5ms/step - loss: 0.6324 - accuracy: 0.7269 - val_loss: 0.7906 - val_accuracy: 0.6388\n",
            "Epoch 24/25\n",
            "148/148 [==============================] - 1s 3ms/step - loss: 0.6284 - accuracy: 0.7316 - val_loss: 0.7895 - val_accuracy: 0.6407\n",
            "Epoch 25/25\n",
            "148/148 [==============================] - 0s 3ms/step - loss: 0.6112 - accuracy: 0.7415 - val_loss: 0.7855 - val_accuracy: 0.6407\n"
          ]
        }
      ]
    },
    {
      "cell_type": "code",
      "source": [
        "#Mostrando gráfico da acurácia conforme o modelo é treinado\n",
        "plt.plot(history.history['accuracy'], label='Training acc')\n",
        "plt.plot(history.history['val_accuracy'], label='Validation acc')\n",
        "plt.title('Accuracy of model')\n",
        "plt.xlabel('Epoch')\n",
        "plt.ylabel('Acurracy')\n",
        "plt.legend()\n",
        "plt.show()"
      ],
      "metadata": {
        "colab": {
          "base_uri": "https://localhost:8080/",
          "height": 472
        },
        "id": "pn3xDMgh8fzV",
        "outputId": "dd927df4-fd67-4cbd-b3eb-7002145c7e53"
      },
      "execution_count": 45,
      "outputs": [
        {
          "output_type": "display_data",
          "data": {
            "text/plain": [
              "<Figure size 640x480 with 1 Axes>"
            ],
            "image/png": "[encoded data removed]"
          },
          "metadata": {}
        }
      ]
    },
    {
      "cell_type": "code",
      "source": [
        "#Mostrando gráfico do loss conforme o modelo é treinado\n",
        "plt.plot(history.history['loss'], label='Training loss')\n",
        "plt.plot(history.history['val_loss'], label='Validation loss')\n",
        "plt.title('Loss of model')\n",
        "plt.xlabel('Epoch')\n",
        "plt.ylabel('Loss')\n",
        "plt.legend()\n",
        "plt.show()"
      ],
      "metadata": {
        "colab": {
          "base_uri": "https://localhost:8080/",
          "height": 472
        },
        "id": "AH2_GZT69mRk",
        "outputId": "eb458623-f25d-4dac-e246-62e281deef1f"
      },
      "execution_count": 46,
      "outputs": [
        {
          "output_type": "display_data",
          "data": {
            "text/plain": [
              "<Figure size 640x480 with 1 Axes>"
            ],
            "image/png": "[encoded data removed]"
          },
          "metadata": {}
        }
      ]
    },
    {
      "cell_type": "markdown",
      "source": [
        "##Previsão feita pelo modelo"
      ],
      "metadata": {
        "id": "FJPsuxbgQPnI"
      }
    },
    {
      "cell_type": "code",
      "source": [
        "y_pred = model.predict(x_test)"
      ],
      "metadata": {
        "colab": {
          "base_uri": "https://localhost:8080/"
        },
        "id": "6z8CnrVyNmBI",
        "outputId": "e04a3d83-214d-483d-847a-ce9ca01dc6a2"
      },
      "execution_count": 16,
      "outputs": [
        {
          "output_type": "stream",
          "name": "stdout",
          "text": [
            "19/19 [==============================] - 0s 2ms/step\n"
          ]
        }
      ]
    },
    {
      "cell_type": "markdown",
      "source": [
        "##Conjunto de funções auxiliares para tratar os dados previstos"
      ],
      "metadata": {
        "id": "xkmHUYJKQ2eI"
      }
    },
    {
      "cell_type": "code",
      "source": [
        "def allzeros(values): #Função que verifica se todos os valores no array previstos estão setados como zero\n",
        "  count = 0\n",
        "  for i in values:\n",
        "    if i != 0:\n",
        "      return False\n",
        "  return True\n",
        "def manyOnes(values): #Função que verifica se mais de um dos valores previsto estão setados como um\n",
        "  count = 0\n",
        "  for i in values:\n",
        "    if i == 1:\n",
        "      count+=1\n",
        "  if count > 1:\n",
        "    return True\n",
        "  else:\n",
        "    return False\n",
        "def maxValueIndex(values): #Função que pega o índice do campo com maior probabilidade de ser\n",
        "  max = np.inf * -1\n",
        "  for i in range(len(values)):\n",
        "    if values[i] > max:\n",
        "      max = values[i]\n",
        "      index = i\n",
        "  return index\n",
        "def arredondarValores(y_test): #Função que arredonda os valores previsto para 0 ou 1\n",
        "  result = y_test.copy()\n",
        "  for i in range(len(y_test)):\n",
        "    for j in range(len(y_test[i])):\n",
        "      if y_test[i][j] >= 0.5:\n",
        "        result[i][j] = 1\n",
        "      else:\n",
        "        result[i][j] = 0\n",
        "    if allzeros(result[i]):\n",
        "      index = maxValueIndex(y_test[i])\n",
        "      result[i][index] = 1\n",
        "    elif manyOnes(result[i]):\n",
        "      index = maxValueIndex(y_test[i])\n",
        "      result[i] = [0.0, 0.0, 0.0]\n",
        "      result[i][index] = 1\n",
        "  return result\n",
        "\n",
        "def decide(values): #Função para printar qual classificação corresponde ao dummy\n",
        "  for i in range(len(values)):\n",
        "    if values[i] == 1:\n",
        "      if i == 0:\n",
        "        return 'Negativo'\n",
        "      elif i == 1:\n",
        "        return 'Neutro'\n",
        "      else:\n",
        "        return 'Positivo'\n",
        "  return 'Erro Inesperado ocorreu!'"
      ],
      "metadata": {
        "id": "xXh8MVD1SaHS"
      },
      "execution_count": 17,
      "outputs": []
    },
    {
      "cell_type": "markdown",
      "source": [
        "##Resultado"
      ],
      "metadata": {
        "id": "G0IFQRa7lPgx"
      }
    },
    {
      "cell_type": "code",
      "source": [
        "y_pred_arredondado = arredondarValores(y_pred)\n",
        "y_pred_arredondado"
      ],
      "metadata": {
        "colab": {
          "base_uri": "https://localhost:8080/"
        },
        "id": "LOSCBsKWFNJa",
        "outputId": "2d97b63d-d498-46c9-e545-616dd15de9a4"
      },
      "execution_count": 18,
      "outputs": [
        {
          "output_type": "execute_result",
          "data": {
            "text/plain": [
              "array([[0., 1., 0.],\n",
              "       [0., 0., 1.],\n",
              "       [0., 0., 1.],\n",
              "       ...,\n",
              "       [0., 1., 0.],\n",
              "       [0., 1., 0.],\n",
              "       [0., 1., 0.]], dtype=float32)"
            ]
          },
          "metadata": {},
          "execution_count": 18
        }
      ]
    },
    {
      "cell_type": "code",
      "source": [
        "accuracy = round(accuracy_score(y_test, y_pred_arredondado), 3)\n",
        "precision = round(precision_score(y_test, y_pred_arredondado, average='micro'), 3)\n",
        "recall = round(recall_score(y_test, y_pred_arredondado, average='micro'), 3)\n",
        "print(accuracy)\n",
        "print(precision)\n",
        "print(recall)"
      ],
      "metadata": {
        "colab": {
          "base_uri": "https://localhost:8080/"
        },
        "id": "X4hsZRVfFqCy",
        "outputId": "6005e16e-06ce-4479-9893-111b11e55b08"
      },
      "execution_count": 19,
      "outputs": [
        {
          "output_type": "stream",
          "name": "stdout",
          "text": [
            "0.641\n",
            "0.641\n",
            "0.641\n"
          ]
        }
      ]
    },
    {
      "cell_type": "markdown",
      "source": [
        "#Realizar previsão individual"
      ],
      "metadata": {
        "id": "s9Dd0W1PLfGY"
      }
    },
    {
      "cell_type": "code",
      "source": [
        "teste = cv.transform([\"not\"])\n",
        "a = model.predict(teste.toarray())\n",
        "decide(arredondarValores(a)[0])"
      ],
      "metadata": {
        "id": "raFobT4HQNux",
        "colab": {
          "base_uri": "https://localhost:8080/",
          "height": 52
        },
        "outputId": "594b2bdd-6425-43d8-b669-476d5046dbd8"
      },
      "execution_count": 22,
      "outputs": [
        {
          "output_type": "stream",
          "name": "stdout",
          "text": [
            "1/1 [==============================] - 0s 68ms/step\n"
          ]
        },
        {
          "output_type": "execute_result",
          "data": {
            "text/plain": [
              "'Neutro'"
            ],
            "application/vnd.google.colaboratory.intrinsic+json": {
              "type": "string"
            }
          },
          "metadata": {},
          "execution_count": 22
        }
      ]
    }
  ]
}